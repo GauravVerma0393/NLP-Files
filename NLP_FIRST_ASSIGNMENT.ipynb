{
 "cells": [
  {
   "cell_type": "code",
   "execution_count": 6,
   "id": "1168bb8e",
   "metadata": {},
   "outputs": [
    {
     "name": "stdout",
     "output_type": "stream",
     "text": [
      "NLP stands for natural language processing\n"
     ]
    }
   ],
   "source": [
    "import PyPDF2\n",
    "import re\n",
    "# qus1-Print an f-string that displays NLP stands for Natural Language Processing using the variables provided.\n",
    "a = 'NLP stands for natural language processing'\n",
    "print(f'{a}')"
   ]
  },
  {
   "cell_type": "code",
   "execution_count": 22,
   "id": "a22853a7",
   "metadata": {},
   "outputs": [],
   "source": [
    "#ques2-Create a file in the current working directory called contacts.txt by running the cell below.\n",
    "with open(\"contacts.txt\",\"w\") as txt:\n",
    "    txt.write('first_name, last_name, email\\n')"
   ]
  },
  {
   "cell_type": "code",
   "execution_count": 23,
   "id": "66055f2b",
   "metadata": {},
   "outputs": [
    {
     "name": "stdout",
     "output_type": "stream",
     "text": [
      "first_name, last_name, email\n",
      "\n"
     ]
    }
   ],
   "source": [
    "with open(\"contacts.txt\",\"r\") as txt:\n",
    "    fields = txt.read()\n",
    "print(fields)"
   ]
  },
  {
   "cell_type": "code",
   "execution_count": 26,
   "id": "d094eb47",
   "metadata": {},
   "outputs": [
    {
     "data": {
      "text/plain": [
       "<_io.TextIOWrapper name='contact.text' mode='r' encoding='cp1252'>"
      ]
     },
     "execution_count": 26,
     "metadata": {},
     "output_type": "execute_result"
    }
   ],
   "source": [
    "#ques3- Open the file and use .read() to save the contents of the file to a string called fields. \n",
    "# Make sure the file is closed at the end.\n",
    "\n",
    "#first method\n",
    "my_file = open('contact.text')\n",
    "my_file"
   ]
  },
  {
   "cell_type": "code",
   "execution_count": 27,
   "id": "46bae914",
   "metadata": {},
   "outputs": [
    {
     "data": {
      "text/plain": [
       "'first_name last_name email\\n'"
      ]
     },
     "execution_count": 27,
     "metadata": {},
     "output_type": "execute_result"
    }
   ],
   "source": [
    "my_file.read()"
   ]
  },
  {
   "cell_type": "code",
   "execution_count": 28,
   "id": "2517e999",
   "metadata": {},
   "outputs": [],
   "source": [
    "my_file.close()"
   ]
  },
  {
   "cell_type": "code",
   "execution_count": 29,
   "id": "3aec837b",
   "metadata": {},
   "outputs": [
    {
     "name": "stdout",
     "output_type": "stream",
     "text": [
      "first_name last_name email\n",
      "\n"
     ]
    }
   ],
   "source": [
    "#second method\n",
    "with open('contact.text') as a:\n",
    "    fields = a.read()\n",
    "print(fields)"
   ]
  },
  {
   "cell_type": "code",
   "execution_count": 30,
   "id": "0b5597d7",
   "metadata": {},
   "outputs": [
    {
     "name": "stdout",
     "output_type": "stream",
     "text": [
      "Requirement already satisfied: PyPDf2 in c:\\users\\asus\\anaconda3\\lib\\site-packages (3.0.1)\n"
     ]
    }
   ],
   "source": [
    "!pip install PyPDf2"
   ]
  },
  {
   "cell_type": "code",
   "execution_count": 31,
   "id": "61033ddb",
   "metadata": {},
   "outputs": [],
   "source": [
    "#ques4-Use PyPDF2 to open the file Business_Proposal.pdf. Extract the text of page 2.\n",
    "import PyPDF2"
   ]
  },
  {
   "cell_type": "code",
   "execution_count": 32,
   "id": "08d35e9d",
   "metadata": {},
   "outputs": [],
   "source": [
    "f = open(r'Business_Proposal.pdf',\"rb\")"
   ]
  },
  {
   "cell_type": "code",
   "execution_count": 33,
   "id": "a490017a",
   "metadata": {},
   "outputs": [],
   "source": [
    "pdf_reader = PyPDF2.PdfReader(f)"
   ]
  },
  {
   "cell_type": "code",
   "execution_count": 43,
   "id": "cee7c29f",
   "metadata": {},
   "outputs": [],
   "source": [
    "page_two=pdf_reader.pages[1]"
   ]
  },
  {
   "cell_type": "code",
   "execution_count": null,
   "id": "59aad456",
   "metadata": {},
   "outputs": [],
   "source": [
    "page_two_text = page_two.extract_text()"
   ]
  },
  {
   "cell_type": "code",
   "execution_count": 40,
   "id": "e5833fdc",
   "metadata": {},
   "outputs": [
    {
     "data": {
      "text/plain": [
       "'AUTHORS:  \\nAmy Baker, Finance Chair, x345, abaker@ourcompany.com  \\nChris Donaldson, Accounting Dir., x621, cdonaldson@ourcompany.com  \\nErin Freeman, Sr. VP, x879, efreeman@ourcompany.com  '"
      ]
     },
     "execution_count": 40,
     "metadata": {},
     "output_type": "execute_result"
    }
   ],
   "source": [
    "page_two_text"
   ]
  },
  {
   "cell_type": "code",
   "execution_count": 44,
   "id": "6c3678ec",
   "metadata": {},
   "outputs": [],
   "source": [
    "#ques5- Open the file contacts.txt in append mode. Add the text of page 2 from above to contacts.txt.\n",
    "\n",
    "f = open(\"contacts.txt\",\"a+\")"
   ]
  },
  {
   "cell_type": "code",
   "execution_count": 52,
   "id": "06e7f560",
   "metadata": {},
   "outputs": [
    {
     "data": {
      "text/plain": [
       "188"
      ]
     },
     "execution_count": 52,
     "metadata": {},
     "output_type": "execute_result"
    }
   ],
   "source": [
    "f.write(page_two_text)"
   ]
  },
  {
   "cell_type": "code",
   "execution_count": 53,
   "id": "07c33898",
   "metadata": {},
   "outputs": [
    {
     "data": {
      "text/plain": [
       "0"
      ]
     },
     "execution_count": 53,
     "metadata": {},
     "output_type": "execute_result"
    }
   ],
   "source": [
    "f.seek(0)"
   ]
  },
  {
   "cell_type": "code",
   "execution_count": 54,
   "id": "9fbbcaf4",
   "metadata": {},
   "outputs": [
    {
     "data": {
      "text/plain": [
       "'first_name, last_name, email\\npage_twopage_two_textAUTHORS:  \\nAmy Baker, Finance Chair, x345, abaker@ourcompany.com  \\nChris Donaldson, Accounting Dir., x621, cdonaldson@ourcompany.com  \\nErin Freeman, Sr. VP, x879, efreeman@ourcompany.com  '"
      ]
     },
     "execution_count": 54,
     "metadata": {},
     "output_type": "execute_result"
    }
   ],
   "source": [
    "file_read = f.read()\n",
    "file_read"
   ]
  },
  {
   "cell_type": "code",
   "execution_count": 2,
   "id": "fe850aa2",
   "metadata": {},
   "outputs": [],
   "source": [
    "# 6. Using the page_two_text variable created above, extract any email addresses that were contained in \n",
    "#       the file Business_Proposal.pdf.\n"
   ]
  },
  {
   "cell_type": "code",
   "execution_count": 55,
   "id": "d8d29bfe",
   "metadata": {},
   "outputs": [
    {
     "data": {
      "text/plain": [
       "['abaker@ourcompany.com',\n",
       " 'cdonaldson@ourcompany.com',\n",
       " 'efreeman@ourcompany.com']"
      ]
     },
     "execution_count": 55,
     "metadata": {},
     "output_type": "execute_result"
    }
   ],
   "source": [
    "re.findall(r\"[\\w]+@[\\w]+.[\\w]+\",file_read)"
   ]
  },
  {
   "cell_type": "code",
   "execution_count": null,
   "id": "35c035de",
   "metadata": {},
   "outputs": [],
   "source": []
  }
 ],
 "metadata": {
  "kernelspec": {
   "display_name": "Python 3 (ipykernel)",
   "language": "python",
   "name": "python3"
  },
  "language_info": {
   "codemirror_mode": {
    "name": "ipython",
    "version": 3
   },
   "file_extension": ".py",
   "mimetype": "text/x-python",
   "name": "python",
   "nbconvert_exporter": "python",
   "pygments_lexer": "ipython3",
   "version": "3.11.5"
  }
 },
 "nbformat": 4,
 "nbformat_minor": 5
}
